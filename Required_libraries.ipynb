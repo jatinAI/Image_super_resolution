{
 "cells": [
  {
   "cell_type": "code",
   "execution_count": null,
   "id": "9a60973e-49b2-402b-a19a-0cd6ec749b57",
   "metadata": {},
   "outputs": [],
   "source": [
    "import os\n",
    "!pip install wget\n",
    "import wget\n",
    "import shutil\n",
    "import glob\n",
    "import cv2\n",
    "import numpy as np\n",
    "import random\n",
    "from tqdm import tqdm\n",
    "import matplotlib.pyplot as plt"
   ]
  },
  {
   "cell_type": "markdown",
   "id": "fb4719ef-ae12-4db2-b232-373f0467f377",
   "metadata": {},
   "source": [
    "# PyTorch based Headers"
   ]
  },
  {
   "cell_type": "code",
   "execution_count": null,
   "id": "9e4216f4-ae9a-4893-9db9-bf4104bab30a",
   "metadata": {},
   "outputs": [],
   "source": [
    "from torch.utils.data import Dataset, DataLoader\n",
    "import torch \n",
    "from torch import nn\n",
    "from torch.nn import functional as F\n",
    "from torch import optim"
   ]
  }
 ],
 "metadata": {
  "kernelspec": {
   "display_name": "Python 3 (ipykernel)",
   "language": "python",
   "name": "python3"
  },
  "language_info": {
   "codemirror_mode": {
    "name": "ipython",
    "version": 3
   },
   "file_extension": ".py",
   "mimetype": "text/x-python",
   "name": "python",
   "nbconvert_exporter": "python",
   "pygments_lexer": "ipython3",
   "version": "3.10.5"
  }
 },
 "nbformat": 4,
 "nbformat_minor": 5
}
